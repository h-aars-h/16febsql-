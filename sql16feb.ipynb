{
 "cells": [
  {
   "cell_type": "code",
   "execution_count": 1,
   "id": "0f9e1d26-77a6-45fd-8183-31e92d9d604c",
   "metadata": {},
   "outputs": [],
   "source": [
    "# Q1. What is a database? Differentiate between SQL and NoSQL databases.\n",
    "# Ans 1 = The  database is a collection of structured data that is organized and managed in a way that allows for efficient \n",
    "# retrieval and manipulation of the data. Databases are used to store data for various purposes, \n",
    "# including business transactions, scientific research, and social media.\n",
    "#  Sql is the ful form is Sturctred query lanuguage here is data store tabler format and this storing data this using for the\n",
    "# complex data just like transiction history Ex : mysql ,orcale\n",
    "# non sql this storing a data non tabler format NoSQL databases are generally used for applications that require large \n",
    "# amounts of unstructured or semi-structured data, such as social media or big data analytics. Examples of NoSQL \n",
    "# databases include MongoDB, Cassandra, and Couchbase"
   ]
  },
  {
   "cell_type": "code",
   "execution_count": 3,
   "id": "369216da-8ac8-49f2-ae71-1d2fb147a83a",
   "metadata": {},
   "outputs": [],
   "source": [
    "# Q2. What is DDL? Explain why CREATE, DROP, ALTER, and TRUNCATE are used with an example.\n",
    "# Ans  2 =DDL stands for Data Definition Language, which is a subset of SQL (Structured Query Language) used to define and modify th structure of database objects like tables, views, indexes, and so on.\n",
    "# Here are some of the commonly used DDL commands:\n",
    "# CREATE: The CREATE command is used to create new database objects, such as tables, views, indexes, and \n",
    "# stored procedures. For example, the following command creates a new table named \"employees\" with three columns - \n",
    "# \"id\", \"name\", and \"salary\":\n",
    "# DROP: The DROP command is used to delete existing database objects, such as tables, views, indexes, and stored procedures. For example, the following command drops\n",
    "# the \"employees\" table\n",
    "# ALTER: The ALTER command is used to modify the structure of an existing database object. For example, you can use ALTER \n",
    "# to add or remove columns from a table, or change the data type of a column. The following command adds a new column named \"department\" to the \"employees\" table:\n",
    "# sql\n",
    "# RUNCATE: The TRUNCATE command is used to delete all data from an existing table. This command is different from \n",
    "# DROP in that it only removes the data from the table, but keeps the table structure intact. For example, the following \n",
    "# command truncates the \"employees\" table: "
   ]
  },
  {
   "cell_type": "code",
   "execution_count": 2,
   "id": "b6085903-4ded-46cc-ac81-a49bb696d29e",
   "metadata": {},
   "outputs": [],
   "source": [
    "# Q3. What is DML? Explain INSERT, UPDATE, and DELETE with an example.\n",
    "# Ans  3 =DML stands for Data Manipulation Language, which is a subset of SQL (Structured Query Language\n",
    "# used to manipulate data stored in the database. DML commands include INSERT, UPDATE, and DELETE.\n",
    "# Here are some examples of DML commands:\n",
    "# INSERT: The INSERT command is used to add new data to a table. For example, the following command inserts a new record \n",
    "# into the \"employees\"table:\n",
    "# UPDATE: The UPDATE command is used to modify existing data in a table. For example, the following command updates the \n",
    "# salary of the employee with an ID of 1:\n",
    "# DELETE: The DELETE command is used to remove data from a table. For example, the following command deletes the\n",
    "# employee record with an ID of 1:"
   ]
  },
  {
   "cell_type": "code",
   "execution_count": 4,
   "id": "5acd5cc3-a246-4426-ab93-8329809e65e8",
   "metadata": {},
   "outputs": [
    {
     "ename": "SyntaxError",
     "evalue": "invalid syntax (2405835663.py, line 4)",
     "output_type": "error",
     "traceback": [
      "\u001b[0;36m  Cell \u001b[0;32mIn [4], line 4\u001b[0;36m\u001b[0m\n\u001b[0;31m    SELECT * FROM employees;\u001b[0m\n\u001b[0m                  ^\u001b[0m\n\u001b[0;31mSyntaxError\u001b[0m\u001b[0;31m:\u001b[0m invalid syntax\n"
     ]
    }
   ],
   "source": [
    "# Q4. What is DQL? Explain SELECT with an example.\n",
    "# DQL stands for Data Query Language, which is a subset of SQL (Structured Query Language) used to query and retrieve data from a database. The most commonly \n",
    "# used DQL command is SELECT.\n",
    "# SELECT * FROM employees; this is command for  using all the data in employee table \n",
    "# We can also use the SELECT command to retrieve specific columns and/or rows. For example, if we only want to retrieve\n",
    "# the names and salaries of all the employees, we can use the following SELECT command:\n",
    "# sqlSELECT name, salary FROM employees;\n",
    "# This command will only return the \"name\" and \"salary\" columns from the \"employees\" table."
   ]
  },
  {
   "cell_type": "code",
   "execution_count": 5,
   "id": "c974dc7f-f53a-4de2-bdb6-29971192dfde",
   "metadata": {},
   "outputs": [],
   "source": [
    "# Q5. Explain Primary Key and Foreign Key.\n",
    "# Ans 5 A primary key is unique just like somthing id and some ac no is using those can not br repeated .\n",
    "# A foreign key is a column or set of columns in one table that refers to the primary key column(s) in another table.\n",
    "# It is used to establish a relationship between two tablesin a relational database. \n"
   ]
  },
  {
   "cell_type": "code",
   "execution_count": null,
   "id": "f4a022a8-7c54-46ed-bf87-f781976eec47",
   "metadata": {},
   "outputs": [],
   "source": [
    "# Q6. Write a python code to connect MySQL to python. Explain the cursor() and execute() method.\n",
    "# Ans 6 The mysql is libarary we import to the import and then we connect to server we use host and user and passwrod\n",
    "# the cursor is just like pointer to go the line by line to the table and execute is the way of excution something\n",
    "# just like run\n",
    "\n",
    "import mysql.connector\n",
    "# import mysql.connector\n",
    "#create user 'user'@'%' identified by 'password'\n",
    "mydb = mysql.connector.connect(\n",
    "  host=\"localhost\",\n",
    "  user=\"abc\",\n",
    "  password=\"password\"\n",
    ")\n",
    "print(mydb)\n",
    "mycursor = mydb.cursor()\n",
    "mycursor.execute(\"SHOW DATABASES\")\n",
    "for x in mycursor:\n",
    "  print(x)\n"
   ]
  },
  {
   "cell_type": "code",
   "execution_count": null,
   "id": "3583e04d-53c8-460a-8f6f-1ace846a4518",
   "metadata": {},
   "outputs": [],
   "source": [
    "# Q7. Give the order of execution of SQL clauses in an SQL query.\n",
    "# Ans 7 he order of execution of SQL clauses in an SQL query is as follows:\n",
    "# FROM clause: The FROM clause specifies the tables from which the data is selected.\n",
    "# WHERE clause: The WHERE clause is used to filter the data based on specified conditions.\n",
    "# GROUP BY clause: The GROUP BY clause is used to group the data based on one or more columns.\n",
    "# HAVING clause: The HAVING clause is used to filter the grouped data based on specified conditions.\n",
    "# SELECT clause: The SELECT clause is used to select the columns that are to be displayed in the result set.\n",
    "# ORDER BY clause: The ORDER BY clause is used to sort the data based on one or more columns.\n",
    "# LIMIT clause: The LIMIT clause is used to limit the number of rows returned in the result set.\n",
    "# Note that not all of these clauses are required for every SQL query, and they can be used in different orders \n",
    "# depending on the specific query being executed. However, this is the general \n",
    "# order of execution for a standard SQL query."
   ]
  }
 ],
 "metadata": {
  "kernelspec": {
   "display_name": "Python 3 (ipykernel)",
   "language": "python",
   "name": "python3"
  },
  "language_info": {
   "codemirror_mode": {
    "name": "ipython",
    "version": 3
   },
   "file_extension": ".py",
   "mimetype": "text/x-python",
   "name": "python",
   "nbconvert_exporter": "python",
   "pygments_lexer": "ipython3",
   "version": "3.10.6"
  }
 },
 "nbformat": 4,
 "nbformat_minor": 5
}
